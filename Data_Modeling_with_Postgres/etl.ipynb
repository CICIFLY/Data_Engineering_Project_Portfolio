{
 "cells": [
  {
   "cell_type": "markdown",
   "metadata": {},
   "source": [
    "# ETL Processes\n",
    "Use this notebook to develop the ETL process for each of your tables before completing the `etl.py` file to load the whole datasets."
   ]
  },
  {
   "cell_type": "code",
   "execution_count": 1,
   "metadata": {},
   "outputs": [],
   "source": [
    "import os\n",
    "import glob\n",
    "import psycopg2\n",
    "import pandas as pd\n",
    "from sql_queries import *"
   ]
  },
  {
   "cell_type": "code",
   "execution_count": 2,
   "metadata": {},
   "outputs": [],
   "source": [
    "conn = psycopg2.connect(\"host=127.0.0.1 dbname=sparkifydb user=student password=student\")\n",
    "cur = conn.cursor()"
   ]
  },
  {
   "cell_type": "code",
   "execution_count": 3,
   "metadata": {},
   "outputs": [],
   "source": [
    "def get_files(filepath):\n",
    "    all_files = []\n",
    "    for root, dirs, files in os.walk(filepath):\n",
    "        files = glob.glob(os.path.join(root,'*.json'))\n",
    "        for f in files :\n",
    "            all_files.append(os.path.abspath(f))\n",
    "    \n",
    "    return all_files"
   ]
  },
  {
   "cell_type": "markdown",
   "metadata": {},
   "source": [
    "# Process `song_data`\n",
    "In this first part, you'll perform ETL on the first dataset, `song_data`, to create the `songs` and `artists` dimensional tables.\n",
    "\n",
    "Let's perform ETL on a single song file and load a single record into each table to start.\n",
    "- Use the `get_files` function provided above to get a list of all song JSON files in `data/song_data`\n",
    "- Select the first song in this list\n",
    "- Read the song file and view the data"
   ]
  },
  {
   "cell_type": "code",
   "execution_count": 4,
   "metadata": {},
   "outputs": [],
   "source": [
    "# this line will fetch a list of all the paths \n",
    "song_files = get_files(\"data/song_data\")"
   ]
  },
  {
   "cell_type": "code",
   "execution_count": 5,
   "metadata": {},
   "outputs": [],
   "source": [
    "# select the first song in the list \n",
    "filepath = song_files[0]"
   ]
  },
  {
   "cell_type": "code",
   "execution_count": 6,
   "metadata": {},
   "outputs": [
    {
     "data": {
      "text/html": [
       "<div>\n",
       "<style scoped>\n",
       "    .dataframe tbody tr th:only-of-type {\n",
       "        vertical-align: middle;\n",
       "    }\n",
       "\n",
       "    .dataframe tbody tr th {\n",
       "        vertical-align: top;\n",
       "    }\n",
       "\n",
       "    .dataframe thead th {\n",
       "        text-align: right;\n",
       "    }\n",
       "</style>\n",
       "<table border=\"1\" class=\"dataframe\">\n",
       "  <thead>\n",
       "    <tr style=\"text-align: right;\">\n",
       "      <th></th>\n",
       "      <th>artist_id</th>\n",
       "      <th>artist_latitude</th>\n",
       "      <th>artist_location</th>\n",
       "      <th>artist_longitude</th>\n",
       "      <th>artist_name</th>\n",
       "      <th>duration</th>\n",
       "      <th>num_songs</th>\n",
       "      <th>song_id</th>\n",
       "      <th>title</th>\n",
       "      <th>year</th>\n",
       "    </tr>\n",
       "  </thead>\n",
       "  <tbody>\n",
       "    <tr>\n",
       "      <th>0</th>\n",
       "      <td>ARNNKDK1187B98BBD5</td>\n",
       "      <td>45.80726</td>\n",
       "      <td>Zagreb Croatia</td>\n",
       "      <td>15.9676</td>\n",
       "      <td>Jinx</td>\n",
       "      <td>407.37914</td>\n",
       "      <td>1</td>\n",
       "      <td>SOFNOQK12AB01840FC</td>\n",
       "      <td>Kutt Free (DJ Volume Remix)</td>\n",
       "      <td>0</td>\n",
       "    </tr>\n",
       "  </tbody>\n",
       "</table>\n",
       "</div>"
      ],
      "text/plain": [
       "            artist_id  artist_latitude artist_location  artist_longitude  \\\n",
       "0  ARNNKDK1187B98BBD5         45.80726  Zagreb Croatia           15.9676   \n",
       "\n",
       "  artist_name   duration  num_songs             song_id  \\\n",
       "0        Jinx  407.37914          1  SOFNOQK12AB01840FC   \n",
       "\n",
       "                         title  year  \n",
       "0  Kutt Free (DJ Volume Remix)     0  "
      ]
     },
     "execution_count": 6,
     "metadata": {},
     "output_type": "execute_result"
    }
   ],
   "source": [
    "# read the song file into dataframe and view the data \n",
    "df = pd.read_json(filepath, lines=True)\n",
    "df.head()"
   ]
  },
  {
   "cell_type": "markdown",
   "metadata": {},
   "source": [
    "## #1: `songs` Table\n",
    "#### Extract Data for Songs Table\n",
    "- Select columns for song ID, title, artist ID, year, and duration\n",
    "- Use `df.values` to select just the values from the dataframe\n",
    "- Index to select the first (only) record in the dataframe\n",
    "- Convert the array to a list and set it to `song_data`"
   ]
  },
  {
   "cell_type": "code",
   "execution_count": 7,
   "metadata": {},
   "outputs": [
    {
     "data": {
      "text/plain": [
       "['SOFNOQK12AB01840FC',\n",
       " 'Kutt Free (DJ Volume Remix)',\n",
       " 'ARNNKDK1187B98BBD5',\n",
       " 0,\n",
       " 407.37914]"
      ]
     },
     "execution_count": 7,
     "metadata": {},
     "output_type": "execute_result"
    }
   ],
   "source": [
    "# datatframe to array , array to list.   list is put to table later\n",
    "song_data = df[['song_id','title','artist_id','year','duration']].values[0].tolist()\n",
    "song_data"
   ]
  },
  {
   "cell_type": "markdown",
   "metadata": {},
   "source": [
    "#### Insert Record into Song Table\n",
    "Implement the `song_table_insert` query in `sql_queries.py` and run the cell below to insert a record for this song into the `songs` table. Remember to run `create_tables.py` before running the cell below to ensure you've created/resetted the `songs` table in the sparkify database."
   ]
  },
  {
   "cell_type": "code",
   "execution_count": 8,
   "metadata": {},
   "outputs": [],
   "source": [
    "cur.execute(song_table_insert, song_data)\n",
    "conn.commit()"
   ]
  },
  {
   "cell_type": "markdown",
   "metadata": {},
   "source": [
    "Run `test.ipynb` to see if you've successfully added a record to this table."
   ]
  },
  {
   "cell_type": "markdown",
   "metadata": {},
   "source": [
    "## #2: `artists` Table\n",
    "#### Extract Data for Artists Table\n",
    "- Select columns for artist ID, name, location, latitude, and longitude\n",
    "- Use `df.values` to select just the values from the dataframe\n",
    "- Index to select the first (only) record in the dataframe\n",
    "- Convert the array to a list and set it to `artist_data`"
   ]
  },
  {
   "cell_type": "code",
   "execution_count": 9,
   "metadata": {},
   "outputs": [
    {
     "data": {
      "text/plain": [
       "['ARNNKDK1187B98BBD5', 'Jinx', 'Zagreb Croatia', 45.80726, 15.967600000000001]"
      ]
     },
     "execution_count": 9,
     "metadata": {},
     "output_type": "execute_result"
    }
   ],
   "source": [
    "artist_data = df[['artist_id','artist_name','artist_location','artist_latitude','artist_longitude']].values[0].tolist()\n",
    "artist_data"
   ]
  },
  {
   "cell_type": "markdown",
   "metadata": {},
   "source": [
    "#### Insert Record into Artist Table\n",
    "Implement the `artist_table_insert` query in `sql_queries.py` and run the cell below to insert a record for this song's artist into the `artists` table. Remember to run `create_tables.py` before running the cell below to ensure you've created/resetted the `artists` table in the sparkify database."
   ]
  },
  {
   "cell_type": "code",
   "execution_count": 10,
   "metadata": {},
   "outputs": [],
   "source": [
    "cur.execute(artist_table_insert, artist_data)\n",
    "conn.commit()"
   ]
  },
  {
   "cell_type": "markdown",
   "metadata": {},
   "source": [
    "Run `test.ipynb` to see if you've successfully added a record to this table."
   ]
  },
  {
   "cell_type": "markdown",
   "metadata": {},
   "source": [
    "# Process `log_data`\n",
    "In this part, you'll perform ETL on the second dataset, `log_data`, to create the `time` and `users` dimensional tables, as well as the `songplays` fact table.\n",
    "\n",
    "Let's perform ETL on a single log file and load a single record into each table.\n",
    "- Use the `get_files` function provided above to get a list of all log JSON files in `data/log_data`\n",
    "- Select the first log file in this list\n",
    "- Read the log file and view the data"
   ]
  },
  {
   "cell_type": "code",
   "execution_count": 11,
   "metadata": {},
   "outputs": [],
   "source": [
    "log_files = get_files('data/log_data')"
   ]
  },
  {
   "cell_type": "code",
   "execution_count": 12,
   "metadata": {},
   "outputs": [],
   "source": [
    "filepath = log_files[0]"
   ]
  },
  {
   "cell_type": "code",
   "execution_count": 13,
   "metadata": {},
   "outputs": [
    {
     "data": {
      "text/html": [
       "<div>\n",
       "<style scoped>\n",
       "    .dataframe tbody tr th:only-of-type {\n",
       "        vertical-align: middle;\n",
       "    }\n",
       "\n",
       "    .dataframe tbody tr th {\n",
       "        vertical-align: top;\n",
       "    }\n",
       "\n",
       "    .dataframe thead th {\n",
       "        text-align: right;\n",
       "    }\n",
       "</style>\n",
       "<table border=\"1\" class=\"dataframe\">\n",
       "  <thead>\n",
       "    <tr style=\"text-align: right;\">\n",
       "      <th></th>\n",
       "      <th>artist</th>\n",
       "      <th>auth</th>\n",
       "      <th>firstName</th>\n",
       "      <th>gender</th>\n",
       "      <th>itemInSession</th>\n",
       "      <th>lastName</th>\n",
       "      <th>length</th>\n",
       "      <th>level</th>\n",
       "      <th>location</th>\n",
       "      <th>method</th>\n",
       "      <th>page</th>\n",
       "      <th>registration</th>\n",
       "      <th>sessionId</th>\n",
       "      <th>song</th>\n",
       "      <th>status</th>\n",
       "      <th>ts</th>\n",
       "      <th>userAgent</th>\n",
       "      <th>userId</th>\n",
       "    </tr>\n",
       "  </thead>\n",
       "  <tbody>\n",
       "    <tr>\n",
       "      <th>0</th>\n",
       "      <td>Sydney Youngblood</td>\n",
       "      <td>Logged In</td>\n",
       "      <td>Jacob</td>\n",
       "      <td>M</td>\n",
       "      <td>53</td>\n",
       "      <td>Klein</td>\n",
       "      <td>238.07955</td>\n",
       "      <td>paid</td>\n",
       "      <td>Tampa-St. Petersburg-Clearwater, FL</td>\n",
       "      <td>PUT</td>\n",
       "      <td>NextSong</td>\n",
       "      <td>1.540558e+12</td>\n",
       "      <td>954</td>\n",
       "      <td>Ain't No Sunshine</td>\n",
       "      <td>200</td>\n",
       "      <td>1543449657796</td>\n",
       "      <td>\"Mozilla/5.0 (Macintosh; Intel Mac OS X 10_9_4...</td>\n",
       "      <td>73</td>\n",
       "    </tr>\n",
       "    <tr>\n",
       "      <th>1</th>\n",
       "      <td>Gang Starr</td>\n",
       "      <td>Logged In</td>\n",
       "      <td>Layla</td>\n",
       "      <td>F</td>\n",
       "      <td>88</td>\n",
       "      <td>Griffin</td>\n",
       "      <td>151.92771</td>\n",
       "      <td>paid</td>\n",
       "      <td>Lake Havasu City-Kingman, AZ</td>\n",
       "      <td>PUT</td>\n",
       "      <td>NextSong</td>\n",
       "      <td>1.541057e+12</td>\n",
       "      <td>984</td>\n",
       "      <td>My Advice 2 You (Explicit)</td>\n",
       "      <td>200</td>\n",
       "      <td>1543449690796</td>\n",
       "      <td>\"Mozilla/5.0 (Windows NT 6.1; WOW64) AppleWebK...</td>\n",
       "      <td>24</td>\n",
       "    </tr>\n",
       "    <tr>\n",
       "      <th>2</th>\n",
       "      <td>3OH!3</td>\n",
       "      <td>Logged In</td>\n",
       "      <td>Layla</td>\n",
       "      <td>F</td>\n",
       "      <td>89</td>\n",
       "      <td>Griffin</td>\n",
       "      <td>192.52200</td>\n",
       "      <td>paid</td>\n",
       "      <td>Lake Havasu City-Kingman, AZ</td>\n",
       "      <td>PUT</td>\n",
       "      <td>NextSong</td>\n",
       "      <td>1.541057e+12</td>\n",
       "      <td>984</td>\n",
       "      <td>My First Kiss (Feat. Ke$ha) [Album Version]</td>\n",
       "      <td>200</td>\n",
       "      <td>1543449841796</td>\n",
       "      <td>\"Mozilla/5.0 (Windows NT 6.1; WOW64) AppleWebK...</td>\n",
       "      <td>24</td>\n",
       "    </tr>\n",
       "    <tr>\n",
       "      <th>3</th>\n",
       "      <td>RÃÂ¶yksopp</td>\n",
       "      <td>Logged In</td>\n",
       "      <td>Jacob</td>\n",
       "      <td>M</td>\n",
       "      <td>54</td>\n",
       "      <td>Klein</td>\n",
       "      <td>369.81506</td>\n",
       "      <td>paid</td>\n",
       "      <td>Tampa-St. Petersburg-Clearwater, FL</td>\n",
       "      <td>PUT</td>\n",
       "      <td>NextSong</td>\n",
       "      <td>1.540558e+12</td>\n",
       "      <td>954</td>\n",
       "      <td>The Girl and The Robot</td>\n",
       "      <td>200</td>\n",
       "      <td>1543449895796</td>\n",
       "      <td>\"Mozilla/5.0 (Macintosh; Intel Mac OS X 10_9_4...</td>\n",
       "      <td>73</td>\n",
       "    </tr>\n",
       "    <tr>\n",
       "      <th>4</th>\n",
       "      <td>Kajagoogoo</td>\n",
       "      <td>Logged In</td>\n",
       "      <td>Layla</td>\n",
       "      <td>F</td>\n",
       "      <td>90</td>\n",
       "      <td>Griffin</td>\n",
       "      <td>223.55546</td>\n",
       "      <td>paid</td>\n",
       "      <td>Lake Havasu City-Kingman, AZ</td>\n",
       "      <td>PUT</td>\n",
       "      <td>NextSong</td>\n",
       "      <td>1.541057e+12</td>\n",
       "      <td>984</td>\n",
       "      <td>Too Shy</td>\n",
       "      <td>200</td>\n",
       "      <td>1543450033796</td>\n",
       "      <td>\"Mozilla/5.0 (Windows NT 6.1; WOW64) AppleWebK...</td>\n",
       "      <td>24</td>\n",
       "    </tr>\n",
       "  </tbody>\n",
       "</table>\n",
       "</div>"
      ],
      "text/plain": [
       "              artist       auth firstName gender  itemInSession lastName  \\\n",
       "0  Sydney Youngblood  Logged In     Jacob      M             53    Klein   \n",
       "1         Gang Starr  Logged In     Layla      F             88  Griffin   \n",
       "2              3OH!3  Logged In     Layla      F             89  Griffin   \n",
       "3        RÃÂ¶yksopp  Logged In     Jacob      M             54    Klein   \n",
       "4         Kajagoogoo  Logged In     Layla      F             90  Griffin   \n",
       "\n",
       "      length level                             location method      page  \\\n",
       "0  238.07955  paid  Tampa-St. Petersburg-Clearwater, FL    PUT  NextSong   \n",
       "1  151.92771  paid         Lake Havasu City-Kingman, AZ    PUT  NextSong   \n",
       "2  192.52200  paid         Lake Havasu City-Kingman, AZ    PUT  NextSong   \n",
       "3  369.81506  paid  Tampa-St. Petersburg-Clearwater, FL    PUT  NextSong   \n",
       "4  223.55546  paid         Lake Havasu City-Kingman, AZ    PUT  NextSong   \n",
       "\n",
       "   registration  sessionId                                         song  \\\n",
       "0  1.540558e+12        954                            Ain't No Sunshine   \n",
       "1  1.541057e+12        984                   My Advice 2 You (Explicit)   \n",
       "2  1.541057e+12        984  My First Kiss (Feat. Ke$ha) [Album Version]   \n",
       "3  1.540558e+12        954                       The Girl and The Robot   \n",
       "4  1.541057e+12        984                                      Too Shy   \n",
       "\n",
       "   status             ts                                          userAgent  \\\n",
       "0     200  1543449657796  \"Mozilla/5.0 (Macintosh; Intel Mac OS X 10_9_4...   \n",
       "1     200  1543449690796  \"Mozilla/5.0 (Windows NT 6.1; WOW64) AppleWebK...   \n",
       "2     200  1543449841796  \"Mozilla/5.0 (Windows NT 6.1; WOW64) AppleWebK...   \n",
       "3     200  1543449895796  \"Mozilla/5.0 (Macintosh; Intel Mac OS X 10_9_4...   \n",
       "4     200  1543450033796  \"Mozilla/5.0 (Windows NT 6.1; WOW64) AppleWebK...   \n",
       "\n",
       "  userId  \n",
       "0     73  \n",
       "1     24  \n",
       "2     24  \n",
       "3     73  \n",
       "4     24  "
      ]
     },
     "execution_count": 13,
     "metadata": {},
     "output_type": "execute_result"
    }
   ],
   "source": [
    "df = pd.read_json(filepath, lines=True)\n",
    "df.head()"
   ]
  },
  {
   "cell_type": "markdown",
   "metadata": {},
   "source": [
    "## #3: `time` Table\n",
    "#### Extract Data for Time Table\n",
    "- Filter records by `NextSong` action\n",
    "- Convert the `ts` timestamp column to datetime\n",
    "  - Hint: the current timestamp is in milliseconds\n",
    "- Extract the timestamp, hour, day, week of year, month, year, and weekday from the `ts` column and set `time_data` to a list containing these values in order\n",
    "  - Hint: use pandas' [`dt` attribute](https://pandas.pydata.org/pandas-docs/stable/reference/api/pandas.Series.dt.html) to access easily datetimelike properties.\n",
    "- Specify labels for these columns and set to `column_labels`\n",
    "- Create a dataframe, `time_df,` containing the time data for this file by combining `column_labels` and `time_data` into a dictionary and converting this into a dataframe"
   ]
  },
  {
   "cell_type": "code",
   "execution_count": 14,
   "metadata": {},
   "outputs": [
    {
     "data": {
      "text/html": [
       "<div>\n",
       "<style scoped>\n",
       "    .dataframe tbody tr th:only-of-type {\n",
       "        vertical-align: middle;\n",
       "    }\n",
       "\n",
       "    .dataframe tbody tr th {\n",
       "        vertical-align: top;\n",
       "    }\n",
       "\n",
       "    .dataframe thead th {\n",
       "        text-align: right;\n",
       "    }\n",
       "</style>\n",
       "<table border=\"1\" class=\"dataframe\">\n",
       "  <thead>\n",
       "    <tr style=\"text-align: right;\">\n",
       "      <th></th>\n",
       "      <th>artist</th>\n",
       "      <th>auth</th>\n",
       "      <th>firstName</th>\n",
       "      <th>gender</th>\n",
       "      <th>itemInSession</th>\n",
       "      <th>lastName</th>\n",
       "      <th>length</th>\n",
       "      <th>level</th>\n",
       "      <th>location</th>\n",
       "      <th>method</th>\n",
       "      <th>page</th>\n",
       "      <th>registration</th>\n",
       "      <th>sessionId</th>\n",
       "      <th>song</th>\n",
       "      <th>status</th>\n",
       "      <th>ts</th>\n",
       "      <th>userAgent</th>\n",
       "      <th>userId</th>\n",
       "    </tr>\n",
       "  </thead>\n",
       "  <tbody>\n",
       "    <tr>\n",
       "      <th>0</th>\n",
       "      <td>Sydney Youngblood</td>\n",
       "      <td>Logged In</td>\n",
       "      <td>Jacob</td>\n",
       "      <td>M</td>\n",
       "      <td>53</td>\n",
       "      <td>Klein</td>\n",
       "      <td>238.07955</td>\n",
       "      <td>paid</td>\n",
       "      <td>Tampa-St. Petersburg-Clearwater, FL</td>\n",
       "      <td>PUT</td>\n",
       "      <td>NextSong</td>\n",
       "      <td>1.540558e+12</td>\n",
       "      <td>954</td>\n",
       "      <td>Ain't No Sunshine</td>\n",
       "      <td>200</td>\n",
       "      <td>1543449657796</td>\n",
       "      <td>\"Mozilla/5.0 (Macintosh; Intel Mac OS X 10_9_4...</td>\n",
       "      <td>73</td>\n",
       "    </tr>\n",
       "    <tr>\n",
       "      <th>1</th>\n",
       "      <td>Gang Starr</td>\n",
       "      <td>Logged In</td>\n",
       "      <td>Layla</td>\n",
       "      <td>F</td>\n",
       "      <td>88</td>\n",
       "      <td>Griffin</td>\n",
       "      <td>151.92771</td>\n",
       "      <td>paid</td>\n",
       "      <td>Lake Havasu City-Kingman, AZ</td>\n",
       "      <td>PUT</td>\n",
       "      <td>NextSong</td>\n",
       "      <td>1.541057e+12</td>\n",
       "      <td>984</td>\n",
       "      <td>My Advice 2 You (Explicit)</td>\n",
       "      <td>200</td>\n",
       "      <td>1543449690796</td>\n",
       "      <td>\"Mozilla/5.0 (Windows NT 6.1; WOW64) AppleWebK...</td>\n",
       "      <td>24</td>\n",
       "    </tr>\n",
       "    <tr>\n",
       "      <th>2</th>\n",
       "      <td>3OH!3</td>\n",
       "      <td>Logged In</td>\n",
       "      <td>Layla</td>\n",
       "      <td>F</td>\n",
       "      <td>89</td>\n",
       "      <td>Griffin</td>\n",
       "      <td>192.52200</td>\n",
       "      <td>paid</td>\n",
       "      <td>Lake Havasu City-Kingman, AZ</td>\n",
       "      <td>PUT</td>\n",
       "      <td>NextSong</td>\n",
       "      <td>1.541057e+12</td>\n",
       "      <td>984</td>\n",
       "      <td>My First Kiss (Feat. Ke$ha) [Album Version]</td>\n",
       "      <td>200</td>\n",
       "      <td>1543449841796</td>\n",
       "      <td>\"Mozilla/5.0 (Windows NT 6.1; WOW64) AppleWebK...</td>\n",
       "      <td>24</td>\n",
       "    </tr>\n",
       "    <tr>\n",
       "      <th>3</th>\n",
       "      <td>RÃÂ¶yksopp</td>\n",
       "      <td>Logged In</td>\n",
       "      <td>Jacob</td>\n",
       "      <td>M</td>\n",
       "      <td>54</td>\n",
       "      <td>Klein</td>\n",
       "      <td>369.81506</td>\n",
       "      <td>paid</td>\n",
       "      <td>Tampa-St. Petersburg-Clearwater, FL</td>\n",
       "      <td>PUT</td>\n",
       "      <td>NextSong</td>\n",
       "      <td>1.540558e+12</td>\n",
       "      <td>954</td>\n",
       "      <td>The Girl and The Robot</td>\n",
       "      <td>200</td>\n",
       "      <td>1543449895796</td>\n",
       "      <td>\"Mozilla/5.0 (Macintosh; Intel Mac OS X 10_9_4...</td>\n",
       "      <td>73</td>\n",
       "    </tr>\n",
       "    <tr>\n",
       "      <th>4</th>\n",
       "      <td>Kajagoogoo</td>\n",
       "      <td>Logged In</td>\n",
       "      <td>Layla</td>\n",
       "      <td>F</td>\n",
       "      <td>90</td>\n",
       "      <td>Griffin</td>\n",
       "      <td>223.55546</td>\n",
       "      <td>paid</td>\n",
       "      <td>Lake Havasu City-Kingman, AZ</td>\n",
       "      <td>PUT</td>\n",
       "      <td>NextSong</td>\n",
       "      <td>1.541057e+12</td>\n",
       "      <td>984</td>\n",
       "      <td>Too Shy</td>\n",
       "      <td>200</td>\n",
       "      <td>1543450033796</td>\n",
       "      <td>\"Mozilla/5.0 (Windows NT 6.1; WOW64) AppleWebK...</td>\n",
       "      <td>24</td>\n",
       "    </tr>\n",
       "  </tbody>\n",
       "</table>\n",
       "</div>"
      ],
      "text/plain": [
       "              artist       auth firstName gender  itemInSession lastName  \\\n",
       "0  Sydney Youngblood  Logged In     Jacob      M             53    Klein   \n",
       "1         Gang Starr  Logged In     Layla      F             88  Griffin   \n",
       "2              3OH!3  Logged In     Layla      F             89  Griffin   \n",
       "3        RÃÂ¶yksopp  Logged In     Jacob      M             54    Klein   \n",
       "4         Kajagoogoo  Logged In     Layla      F             90  Griffin   \n",
       "\n",
       "      length level                             location method      page  \\\n",
       "0  238.07955  paid  Tampa-St. Petersburg-Clearwater, FL    PUT  NextSong   \n",
       "1  151.92771  paid         Lake Havasu City-Kingman, AZ    PUT  NextSong   \n",
       "2  192.52200  paid         Lake Havasu City-Kingman, AZ    PUT  NextSong   \n",
       "3  369.81506  paid  Tampa-St. Petersburg-Clearwater, FL    PUT  NextSong   \n",
       "4  223.55546  paid         Lake Havasu City-Kingman, AZ    PUT  NextSong   \n",
       "\n",
       "   registration  sessionId                                         song  \\\n",
       "0  1.540558e+12        954                            Ain't No Sunshine   \n",
       "1  1.541057e+12        984                   My Advice 2 You (Explicit)   \n",
       "2  1.541057e+12        984  My First Kiss (Feat. Ke$ha) [Album Version]   \n",
       "3  1.540558e+12        954                       The Girl and The Robot   \n",
       "4  1.541057e+12        984                                      Too Shy   \n",
       "\n",
       "   status             ts                                          userAgent  \\\n",
       "0     200  1543449657796  \"Mozilla/5.0 (Macintosh; Intel Mac OS X 10_9_4...   \n",
       "1     200  1543449690796  \"Mozilla/5.0 (Windows NT 6.1; WOW64) AppleWebK...   \n",
       "2     200  1543449841796  \"Mozilla/5.0 (Windows NT 6.1; WOW64) AppleWebK...   \n",
       "3     200  1543449895796  \"Mozilla/5.0 (Macintosh; Intel Mac OS X 10_9_4...   \n",
       "4     200  1543450033796  \"Mozilla/5.0 (Windows NT 6.1; WOW64) AppleWebK...   \n",
       "\n",
       "  userId  \n",
       "0     73  \n",
       "1     24  \n",
       "2     24  \n",
       "3     73  \n",
       "4     24  "
      ]
     },
     "execution_count": 14,
     "metadata": {},
     "output_type": "execute_result"
    }
   ],
   "source": [
    "df = df[df['page']=='NextSong']\n",
    "df.head()"
   ]
  },
  {
   "cell_type": "code",
   "execution_count": 15,
   "metadata": {},
   "outputs": [
    {
     "data": {
      "text/plain": [
       "0   2018-11-29 00:00:57.796\n",
       "1   2018-11-29 00:01:30.796\n",
       "2   2018-11-29 00:04:01.796\n",
       "3   2018-11-29 00:04:55.796\n",
       "4   2018-11-29 00:07:13.796\n",
       "Name: ts, dtype: datetime64[ns]"
      ]
     },
     "execution_count": 15,
     "metadata": {},
     "output_type": "execute_result"
    }
   ],
   "source": [
    "# convert timestamp into date time \n",
    "t = pd.to_datetime( df['ts'] , unit = 'ms')   # here is ms, in the hint above \n",
    "t.head()"
   ]
  },
  {
   "cell_type": "code",
   "execution_count": 16,
   "metadata": {},
   "outputs": [],
   "source": [
    "# extract timestamp, hour, day, week of year, month, year, and weekday and wrap them into a list \n",
    "time_data = list((t.dt.time, t.dt.hour, t.dt.day, t.dt.week,t.dt.month, t.dt.year, t.dt.dayofweek))\n",
    "# create the coresponding columns' labels\n",
    "column_labels = ('timestamp', 'hour', 'day', 'week', 'month', 'year','weekday')"
   ]
  },
  {
   "cell_type": "code",
   "execution_count": 17,
   "metadata": {},
   "outputs": [
    {
     "data": {
      "text/html": [
       "<div>\n",
       "<style scoped>\n",
       "    .dataframe tbody tr th:only-of-type {\n",
       "        vertical-align: middle;\n",
       "    }\n",
       "\n",
       "    .dataframe tbody tr th {\n",
       "        vertical-align: top;\n",
       "    }\n",
       "\n",
       "    .dataframe thead th {\n",
       "        text-align: right;\n",
       "    }\n",
       "</style>\n",
       "<table border=\"1\" class=\"dataframe\">\n",
       "  <thead>\n",
       "    <tr style=\"text-align: right;\">\n",
       "      <th></th>\n",
       "      <th>timestamp</th>\n",
       "      <th>hour</th>\n",
       "      <th>day</th>\n",
       "      <th>week</th>\n",
       "      <th>month</th>\n",
       "      <th>year</th>\n",
       "      <th>weekday</th>\n",
       "    </tr>\n",
       "  </thead>\n",
       "  <tbody>\n",
       "    <tr>\n",
       "      <th>0</th>\n",
       "      <td>00:00:57.796000</td>\n",
       "      <td>0</td>\n",
       "      <td>29</td>\n",
       "      <td>48</td>\n",
       "      <td>11</td>\n",
       "      <td>2018</td>\n",
       "      <td>3</td>\n",
       "    </tr>\n",
       "    <tr>\n",
       "      <th>1</th>\n",
       "      <td>00:01:30.796000</td>\n",
       "      <td>0</td>\n",
       "      <td>29</td>\n",
       "      <td>48</td>\n",
       "      <td>11</td>\n",
       "      <td>2018</td>\n",
       "      <td>3</td>\n",
       "    </tr>\n",
       "    <tr>\n",
       "      <th>2</th>\n",
       "      <td>00:04:01.796000</td>\n",
       "      <td>0</td>\n",
       "      <td>29</td>\n",
       "      <td>48</td>\n",
       "      <td>11</td>\n",
       "      <td>2018</td>\n",
       "      <td>3</td>\n",
       "    </tr>\n",
       "    <tr>\n",
       "      <th>3</th>\n",
       "      <td>00:04:55.796000</td>\n",
       "      <td>0</td>\n",
       "      <td>29</td>\n",
       "      <td>48</td>\n",
       "      <td>11</td>\n",
       "      <td>2018</td>\n",
       "      <td>3</td>\n",
       "    </tr>\n",
       "    <tr>\n",
       "      <th>4</th>\n",
       "      <td>00:07:13.796000</td>\n",
       "      <td>0</td>\n",
       "      <td>29</td>\n",
       "      <td>48</td>\n",
       "      <td>11</td>\n",
       "      <td>2018</td>\n",
       "      <td>3</td>\n",
       "    </tr>\n",
       "  </tbody>\n",
       "</table>\n",
       "</div>"
      ],
      "text/plain": [
       "         timestamp hour day week month  year weekday\n",
       "0  00:00:57.796000    0  29   48    11  2018       3\n",
       "1  00:01:30.796000    0  29   48    11  2018       3\n",
       "2  00:04:01.796000    0  29   48    11  2018       3\n",
       "3  00:04:55.796000    0  29   48    11  2018       3\n",
       "4  00:07:13.796000    0  29   48    11  2018       3"
      ]
     },
     "execution_count": 17,
     "metadata": {},
     "output_type": "execute_result"
    }
   ],
   "source": [
    "# use value and column labels to create a dataframe\n",
    "time_df = pd.DataFrame(time_data, column_labels).T   \n",
    "# note DataFrame, not dataframe, data first, then columns' names\n",
    "# T is used to transpose the dataframe \n",
    "time_df.head()\n",
    "# check the data types in each columns . They must be consistent with what were defined in\n",
    "# sql_queries.py. Otherwise, it will throw error when put into dataframe"
   ]
  },
  {
   "cell_type": "markdown",
   "metadata": {},
   "source": [
    "#### Insert Records into Time Table\n",
    "Implement the `time_table_insert` query in `sql_queries.py` and run the cell below to insert records for the timestamps in this log file into the `time` table. Remember to run `create_tables.py` before running the cell below to ensure you've created/resetted the `time` table in the sparkify database."
   ]
  },
  {
   "cell_type": "code",
   "execution_count": 18,
   "metadata": {},
   "outputs": [],
   "source": [
    "for i, row in time_df.iterrows():\n",
    "    cur.execute(time_table_insert, list(row))\n",
    "    conn.commit()"
   ]
  },
  {
   "cell_type": "markdown",
   "metadata": {},
   "source": [
    "Run `test.ipynb` to see if you've successfully added records to this table."
   ]
  },
  {
   "cell_type": "markdown",
   "metadata": {},
   "source": [
    "## #4: `users` Table\n",
    "#### Extract Data for Users Table\n",
    "- Select columns for user ID, first name, last name, gender and level and set to `user_df`"
   ]
  },
  {
   "cell_type": "code",
   "execution_count": 19,
   "metadata": {},
   "outputs": [],
   "source": [
    "user_df = df[['userId','firstName','lastName','gender','level']]"
   ]
  },
  {
   "cell_type": "markdown",
   "metadata": {},
   "source": [
    "#### Insert Records into Users Table\n",
    "Implement the `user_table_insert` query in `sql_queries.py` and run the cell below to insert records for the users in this log file into the `users` table. Remember to run `create_tables.py` before running the cell below to ensure you've created/resetted the `users` table in the sparkify database."
   ]
  },
  {
   "cell_type": "code",
   "execution_count": 20,
   "metadata": {},
   "outputs": [],
   "source": [
    "for i, row in user_df.iterrows():\n",
    "    cur.execute(user_table_insert, row)\n",
    "    conn.commit()"
   ]
  },
  {
   "cell_type": "markdown",
   "metadata": {},
   "source": [
    "Run `test.ipynb` to see if you've successfully added records to this table."
   ]
  },
  {
   "cell_type": "markdown",
   "metadata": {},
   "source": [
    "## #5: `songplays` Table\n",
    "#### Extract Data and Songplays Table\n",
    "This one is a little more complicated since information from the songs table, artists table, and original log file are all needed for the `songplays` table. Since the log file does not specify an ID for either the song or the artist, you'll need to get the song ID and artist ID by querying the songs and artists tables to find matches based on song title, artist name, and song duration time.\n",
    "- Implement the `song_select` query in `sql_queries.py` to find the song ID and artist ID based on the title, artist name, and duration of a song.\n",
    "- Select the timestamp, user ID, level, song ID, artist ID, session ID, location, and user agent and set to `songplay_data`\n",
    "\n",
    "#### Insert Records into Songplays Table\n",
    "- Implement the `songplay_table_insert` query and run the cell below to insert records for the songplay actions in this log file into the `songplays` table. Remember to run `create_tables.py` before running the cell below to ensure you've created/resetted the `songplays` table in the sparkify database."
   ]
  },
  {
   "cell_type": "code",
   "execution_count": 21,
   "metadata": {},
   "outputs": [],
   "source": [
    "for index, row in df.iterrows():\n",
    "\n",
    "    # get songid and artistid from song and artist tables\n",
    "    cur.execute(song_select, (row.song, row.artist, row.length))  \n",
    "    # row.length means the duration. row.song, row.artist, row.length are the condition under where statement in sql_queries.py\n",
    "    results = cur.fetchone()\n",
    "    \n",
    "    if results:\n",
    "        songid, artistid = results\n",
    "    else:\n",
    "        songid, artistid = None, None\n",
    "\n",
    "    # insert songplay record\n",
    "    # what are in the dataframe, use row.column_name. use the column name directly if they are not in the dataframe        \n",
    "    songplay_data = ( pd.to_datetime(row.ts, unit = 'ms'), row.userId, row.level, songid , artistid, row.sessionId, row.location, row.userAgent )\n",
    "    cur.execute(songplay_table_insert, songplay_data)\n",
    "    conn.commit()"
   ]
  },
  {
   "cell_type": "markdown",
   "metadata": {},
   "source": [
    "Run `test.ipynb` to see if you've successfully added records to this table."
   ]
  },
  {
   "cell_type": "markdown",
   "metadata": {},
   "source": [
    "# Close Connection to Sparkify Database"
   ]
  },
  {
   "cell_type": "code",
   "execution_count": 22,
   "metadata": {},
   "outputs": [],
   "source": [
    "conn.close()"
   ]
  },
  {
   "cell_type": "markdown",
   "metadata": {},
   "source": [
    "# Implement `etl.py`\n",
    "Use what you've completed in this notebook to implement `etl.py`."
   ]
  },
  {
   "cell_type": "code",
   "execution_count": null,
   "metadata": {},
   "outputs": [],
   "source": []
  }
 ],
 "metadata": {
  "kernelspec": {
   "display_name": "Python 3",
   "language": "python",
   "name": "python3"
  },
  "language_info": {
   "codemirror_mode": {
    "name": "ipython",
    "version": 3
   },
   "file_extension": ".py",
   "mimetype": "text/x-python",
   "name": "python",
   "nbconvert_exporter": "python",
   "pygments_lexer": "ipython3",
   "version": "3.6.3"
  }
 },
 "nbformat": 4,
 "nbformat_minor": 2
}
